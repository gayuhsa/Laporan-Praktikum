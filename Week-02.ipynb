{
  "nbformat": 4,
  "nbformat_minor": 0,
  "metadata": {
    "colab": {
      "provenance": []
    },
    "kernelspec": {
      "name": "python3",
      "display_name": "Python 3"
    },
    "language_info": {
      "name": "python"
    }
  },
  "cells": [
    {
      "cell_type": "markdown",
      "source": [
        "## Weekly Exercise 1\n",
        "\n",
        "Perbaiki script berikut sehingga tidak muncul error."
      ],
      "metadata": {
        "id": "GDOzQL7-TQPD"
      }
    },
    {
      "cell_type": "code",
      "source": [
        "panjang = 20,5\n",
        "lebar = 25\n",
        "tinggi = 10\n",
        "\n",
        "keliling = 2*(panjang+lebar)\n",
        "luas = panjang*/lebar\n",
        "volum = panjang*lebar*tiggi\n",
        "\n",
        "print(\"Panjang = \" + 'panjang')\n",
        "printl(\"Lebar = ' + lebar)\n",
        "print('Tinggi = \"  tinggi)\n",
        "printl(\"Keliling = \"  'kelling')\n",
        "print(\"Volume = \" + volume)"
      ],
      "metadata": {
        "id": "svCqS44BTV_9"
      },
      "execution_count": null,
      "outputs": []
    },
    {
      "cell_type": "markdown",
      "source": [
        "Solusi:"
      ],
      "metadata": {
        "id": "2auSKsxCTuWv"
      }
    },
    {
      "cell_type": "code",
      "source": [
        "panjang = 20.5\n",
        "lebar = 25\n",
        "tinggi = 10\n",
        "\n",
        "keliling = 2 * (panjang + lebar)\n",
        "luas = panjang * lebar\n",
        "volume = panjang * lebar * tinggi\n",
        "\n",
        "print(\"Panjang = \" + str(panjang))\n",
        "print(\"Lebar = \" + str(lebar))\n",
        "print(\"Tinggi = \"  + str(tinggi))\n",
        "print(\"Keliling = \" + str(keliling))\n",
        "print(\"Volume = \" + str(volume))"
      ],
      "metadata": {
        "id": "FtMcgoLsTwlE"
      },
      "execution_count": null,
      "outputs": []
    },
    {
      "cell_type": "markdown",
      "source": [
        "## Weekly Exercise 2\n",
        "\n",
        "Terdapat data mahasiswa sebagai berikut:\n",
        "\n",
        "![__q_9cagpe6808.PNG__](data:application/octet-stream;base64,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)\n",
        "\n",
        "Berdasarkan data di atas, buatlah sebuah program untuk menampilkan data-data berikut :\n",
        "\n",
        "1. Rata-rata nilai Shafira pada kedua mata kuliah\n",
        "2. Jumlah nilai Hanif dan Andi untuk semua mata kuliah\n",
        "3. Rata-rata nilai Widya, Dhanar, Hikma dan Nedia pada masing-masing mata kuliah\n",
        "4. Rata-rata nilai mata kuliah Kalkulus 1 untuk semua mahasiswa\n",
        "5. Rata-rata nilai mata kuliah Metode Statistika untuk semua mahasiswa\n",
        "\n",
        "Dengan ketentuan gunakan variabel agar memudahkan dalam menampilkan hasil"
      ],
      "metadata": {
        "id": "Yp6fa1EbXP-P"
      }
    },
    {
      "cell_type": "markdown",
      "source": [
        "Solusi 1"
      ],
      "metadata": {
        "id": "XeIwudUglWMz"
      }
    },
    {
      "cell_type": "code",
      "source": [
        "nilai_shafira = 85 + 75\n",
        "print(\"Rata-rata nilai Shafira pada kedua mata kuliah: \" + str(nilai_shafira / 2))\n",
        "\n",
        "nilai_hanif = 75 + 90\n",
        "nilai_andi = 70 + 75\n",
        "print(\"Jumlah nilai Hanif dan Andi untuk semua mata kuliah: \" + str(nilai_hanif + nilai_andi))\n",
        "\n",
        "nilai_kalkulus_1 = 85 + 85 + 80 + 95\n",
        "nilai_metode_statistika = 85 + 85 + 75 + 80\n",
        "print(\"Rata-rata nilai Widya, Dhanar, Hikma dan Nedia pada mata kuliah Kalkulus 1: \" + str(nilai_kalkulus_1 / 4))\n",
        "print(\"Rata-rata nilai Widya, Dhanar, Hikma dan Nedia pada mata kuliah Metode Statistika: \" + str(nilai_metode_statistika / 4))\n",
        "\n",
        "total_nilai_kalkulus_1 = 85 + 80 + 75 + 95 + 85 + 75 + 70 + 85 + 80\n",
        "print(\"Rata-rata nilai mata kuliah Kalkulus 1 untuk semua mahasiswa: \" + str(total_nilai_kalkulus_1 / 9))\n",
        "\n",
        "total_nilai_metode_statistika = 75 + 90 + 80 + 80 + 85 + 90 + 75 + 85 + 75\n",
        "print(\"Rata-rata nilai mata kuliah Metode Statistika untuk semua mahasiswa: \" + str(total_nilai_metode_statistika / 9))"
      ],
      "metadata": {
        "id": "8doFV_ftraAw"
      },
      "execution_count": null,
      "outputs": []
    },
    {
      "cell_type": "markdown",
      "source": [
        "Solusi 2"
      ],
      "metadata": {
        "id": "UpMgIi-dlQqb"
      }
    },
    {
      "cell_type": "code",
      "source": [
        "# Untuk memudahkan penghitungan, masukan semua nama mahasiswa beserta nilai mata kuliahnya ke dalam sebuah dictionary\n",
        "data_mahasiswa = {\n",
        "    \"Shafira\": {\n",
        "        \"Kalkulus 1\": 85,\n",
        "        \"Metode Statistika\": 75\n",
        "    },\n",
        "    \"Amanda\": {\n",
        "        \"Kalkulus 1\": 80,\n",
        "        \"Metode Statistika\": 90\n",
        "    },\n",
        "    \"Aditya\": {\n",
        "        \"Kalkulus 1\": 75,\n",
        "        \"Metode Statistika\": 80\n",
        "    },\n",
        "    \"Nedia\": {\n",
        "        \"Kalkulus 1\": 95,\n",
        "        \"Metode Statistika\": 80\n",
        "    },\n",
        "    \"Widya\": {\n",
        "        \"Kalkulus 1\": 85,\n",
        "        \"Metode Statistika\": 85\n",
        "    },\n",
        "    \"Hanif\": {\n",
        "        \"Kalkulus 1\": 75,\n",
        "        \"Metode Statistika\": 90\n",
        "    },\n",
        "    \"Andi\": {\n",
        "        \"Kalkulus 1\": 70,\n",
        "        \"Metode Statistika\": 75\n",
        "    },\n",
        "    \"Dhanar\": {\n",
        "        \"Kalkulus 1\": 85,\n",
        "        \"Metode Statistika\": 85\n",
        "    },\n",
        "    \"Hikma\": {\n",
        "        \"Kalkulus 1\": 80,\n",
        "        \"Metode Statistika\": 75\n",
        "    }\n",
        "}\n",
        "\n",
        "\n",
        "# 1. Rata-rata nilai Shafira pada kedua mata kuliah\n",
        "nilai_shafira_1 = data_mahasiswa[\"Shafira\"][\"Kalkulus 1\"] # Nilai Shafira pada mata kuliah Kalkulus 1\n",
        "nilai_shafira_2 = data_mahasiswa[\"Shafira\"][\"Metode Statistika\"] # Nilai Shafira pada mata kuliah Metode Statistika\n",
        "\n",
        "# Print rata-rata nilainya dengan menjumlahkan kedua nilai dan membaginya dengan 2\n",
        "print(\"Rata-rata nilai Shafira pada kedua mata kuliah: \" + str((nilai_shafira_1 + nilai_shafira_2) / 2))\n",
        "\n",
        "\n",
        "# 2. Jumlah nilai Hanif dan Andi untuk semua mata kuliah\n",
        "jumlah_nilai = 0\n",
        "\n",
        "for nama in [\"Hanif\", \"Andi\"]: # Gunakan list berisi nama mahasiswa sebagai \"key\" untuk mengakses dictionary data mahasiswa\n",
        "  jumlah_nilai = jumlah_nilai + data_mahasiswa[nama][\"Kalkulus 1\"] + data_mahasiswa[nama][\"Metode Statistika\"]\n",
        "\n",
        "print(\"Jumlah nilai Hanif dan Andi untuk semua mata kuliah: \" + str(jumlah_nilai))\n",
        "\n",
        "\n",
        "# 3. Rata-rata nilai Widya, Dhanar, Hikma dan Nedia pada masing-masing mata kuliah\n",
        "jumlah_1, jumlah_2 = 0, 0\n",
        "nilai_1, nilai_2 = 0, 0\n",
        "\n",
        "# Gunakan loop untuk mencari nilai dari masing-masing mahasiswa\n",
        "# Gunakan list berisi nama mahasiswa sebagai \"key\" untuk mengakses dictionary data_mahasiswa\n",
        "for nama in [\"Widya\", \"Dhanar\", \"Hikma\", \"Nedia\"]:\n",
        "  jumlah_1 = jumlah_1 + 1\n",
        "  jumlah_2 = jumlah_2 + 1\n",
        "  nilai_1 = nilai_1 + data_mahasiswa[nama][\"Kalkulus 1\"]\n",
        "  nilai_2 = nilai_2 + data_mahasiswa[nama][\"Metode Statistika\"]\n",
        "\n",
        "nilai_1 = nilai_1 / jumlah_1\n",
        "nilai_2 = nilai_2 / jumlah_2\n",
        "\n",
        "print(\"Rata-rata nilai Widya, Dhanar, Hikma dan Nedia pada mata kuliah Kalkulus 1: \" + str(nilai_1))\n",
        "print(\"Rata-rata nilai Widya, Dhanar, Hikma dan Nedia pada mata kuliah Metode Statistika: \" + str(nilai_2))\n",
        "\n",
        "\n",
        "# 4. Rata-rata nilai mata kuliah Kalkulus 1 untuk semua mahasiswa\n",
        "jumlah_kalkulus_1 = 0\n",
        "nilai_kalkulus_1 = 0\n",
        "\n",
        "# Gunakan loop untuk mencari nilai dari masing-masing mahasiswa\n",
        "for nama, nilai in data_mahasiswa.items():\n",
        "  jumlah_kalkulus_1 = jumlah_kalkulus_1 + 1\n",
        "  nilai_kalkulus_1 = nilai_kalkulus_1 + nilai[\"Kalkulus 1\"]\n",
        "\n",
        "nilai_kalkulus_1 = nilai_kalkulus_1 / jumlah_kalkulus_1\n",
        "\n",
        "print(\"Rata-rata nilai mata kuliah Kalkulus 1 untuk semua mahasiswa: \" + str(nilai_kalkulus_1))\n",
        "\n",
        "\n",
        "# 5. Rata-rata nilai mata kuliah Metode Statistika untuk semua mahasiswa\n",
        "jumlah_metode_statistika = 0\n",
        "nilai_metode_statistika = 0\n",
        "\n",
        "# Gunakan loop untuk mencari nilai dari masing-masing mahasiswa\n",
        "for nama, nilai in data_mahasiswa.items():\n",
        "  jumlah_metode_statistika = jumlah_metode_statistika + 1\n",
        "  nilai_metode_statistika = nilai_metode_statistika + nilai[\"Metode Statistika\"]\n",
        "\n",
        "nilai_metode_statistika = nilai_metode_statistika / jumlah_metode_statistika\n",
        "\n",
        "print(\"Rata-rata nilai mata kuliah Metode Statistika untuk semua mahasiswa: \" + str(nilai_metode_statistika))"
      ],
      "metadata": {
        "id": "AaVVW3RpX1Hk"
      },
      "execution_count": null,
      "outputs": []
    },
    {
      "cell_type": "markdown",
      "source": [
        "## Weekly Exercise 3\n",
        "\n",
        "Diketahui Dwi adalah seorang karyawan pabrik swasta yang telah bekerja selama 10 tahun. Setiap hari Dwi bekerja selama 8 jam. Prosedur penerimaan honor dari perusahaan ditentukan dengan cara jumlah jam masuk dikali dengan Rp 30.000,-.\n",
        "\n",
        "Buatlah sebuah program untuk menampilkan data berikut:\n",
        "\n",
        "1. Gaji pada bulan Agustus jika Dwi tidak masuk kerja selama 3 hari, berapa gaji yang diterima oleh Dwi.\n",
        "2. Apabila terdapat tunjangan bagi karyawan yang bekerja lebih dari 5 tahun sebesar 10% dari total gaji yang diterima setiap bulan, tentukan jumlah tunjangan yang diterima oleh Dwi pada bulan Agustus.\n",
        "3. Apabila pada bulan Agustus Dwi mendapatkan tugas lembur selama 5 jam, tentukan gaji total yang diterima oleh Dwi pada bulan Agustus. (upah lembur : Rp 10.000,- per jam)"
      ],
      "metadata": {
        "id": "1nvmU93mZsiN"
      }
    },
    {
      "cell_type": "markdown",
      "source": [
        "Solusi 1"
      ],
      "metadata": {
        "id": "_F7cUtuDlBW9"
      }
    },
    {
      "cell_type": "code",
      "source": [
        "gaji_bulan_agustus = (31 - 3) * 8 * 30000\n",
        "tunjangan = gaji_bulan_agustus * 0.1\n",
        "gaji_total = gaji_bulan_agustus + tunjangan + 5 * 10000\n",
        "\n",
        "print(\"Gaji pada bulan Agustus jika Dwi tidak masuk kerja selama 3 hari: Rp \" + str(gaji_bulan_agustus) + \",-\")\n",
        "print(\"Jumlah tunjangan yang diterima oleh Dwi pada bulan Agustus: Rp \" + str(int(tunjangan)) + \",-\")\n",
        "print(\"Gaji total yang diterima oleh Dwi pada bulan Agustus: Rp \" + str(int(gaji_total)) + \",-\")"
      ],
      "metadata": {
        "id": "vIpURBAovven"
      },
      "execution_count": null,
      "outputs": []
    },
    {
      "cell_type": "markdown",
      "source": [
        "Solusi 2"
      ],
      "metadata": {
        "id": "dPFz-xrglFj2"
      }
    },
    {
      "cell_type": "code",
      "source": [
        "gaji_bulan_agustus = (31 - 3) * 8 * 30000\n",
        "tunjangan = gaji_bulan_agustus * 0.1\n",
        "gaji_total = gaji_bulan_agustus + tunjangan + 5 * 10000\n",
        "\n",
        "gaji_bulan_agustus = \"{:,.2f}\".format(gaji_bulan_agustus)\n",
        "gaji_bulan_agustus = gaji_bulan_agustus.replace(\",\", \"|\")\n",
        "gaji_bulan_agustus = gaji_bulan_agustus.replace(\".\", \",\")\n",
        "gaji_bulan_agustus = gaji_bulan_agustus.replace(\"|\", \".\")\n",
        "\n",
        "tunjangan = \"{:,.2f}\".format(tunjangan)\n",
        "tunjangan = tunjangan.replace(\",\", \"|\")\n",
        "tunjangan = tunjangan.replace(\".\", \",\")\n",
        "tunjangan = tunjangan.replace(\"|\", \".\")\n",
        "\n",
        "gaji_total = \"{:,.2f}\".format(gaji_total)\n",
        "gaji_total = gaji_total.replace(\",\", \"|\")\n",
        "gaji_total = gaji_total.replace(\".\", \",\")\n",
        "gaji_total = gaji_total.replace(\"|\", \".\")\n",
        "\n",
        "print(\"Gaji pada bulan Agustus jika Dwi tidak masuk kerja selama 3 hari: Rp \" + gaji_bulan_agustus)\n",
        "print(\"Jumlah tunjangan yang diterima oleh Dwi pada bulan Agustus: Rp \" + tunjangan)\n",
        "print(\"Gaji total yang diterima oleh Dwi pada bulan Agustus: Rp \" + gaji_total)"
      ],
      "metadata": {
        "id": "Jm8CmyS8zoi-"
      },
      "execution_count": null,
      "outputs": []
    },
    {
      "cell_type": "markdown",
      "source": [
        "Solusi 3"
      ],
      "metadata": {
        "id": "gWB2_4QYlJhV"
      }
    },
    {
      "cell_type": "code",
      "source": [
        "gaji_bulan_agustus = (31 - 3) * 8 * 30000\n",
        "tunjangan = gaji_bulan_agustus * 0.1\n",
        "gaji_total = gaji_bulan_agustus + tunjangan + 5 * 10000\n",
        "\n",
        "def format_rupiah(n):\n",
        "  # {:,.2f} adalah format string untuk menambahkan koma (,) dalam setiap 3 digit dan 2 angka desimal yang diawali dengan titik (.)\n",
        "  # Karena kita akan menggunakan titik (.) dalam setiap 3 digit dan koma (,) untuk desimal, maka tanda tersebut harus dibalik\n",
        "  hasil = \"{:,.2f}\".format(n)\n",
        "  hasil = hasil.replace(\",\", \"|\") # Untuk sementara, ganti koma (,) dengan \"|\"\n",
        "  hasil = hasil.replace(\".\", \",\") # Ubah titik (.) dengan koma (,)\n",
        "  hasil = hasil.replace(\"|\", \".\") # Terakhir, ubah \"|\" dengan titik (.)\n",
        "  return \"Rp \" + hasil\n",
        "\n",
        "\n",
        "print(\"Gaji pada bulan Agustus jika Dwi tidak masuk kerja selama 3 hari: \" + format_rupiah(gaji_bulan_agustus))\n",
        "print(\"Jumlah tunjangan yang diterima oleh Dwi pada bulan Agustus: \" + format_rupiah(tunjangan))\n",
        "print(\"Gaji total yang diterima oleh Dwi pada bulan Agustus: \" + format_rupiah(gaji_total))"
      ],
      "metadata": {
        "id": "fcuaNOYxZza9"
      },
      "execution_count": null,
      "outputs": []
    }
  ]
}