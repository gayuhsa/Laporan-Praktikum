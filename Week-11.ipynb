{
  "nbformat": 4,
  "nbformat_minor": 0,
  "metadata": {
    "colab": {
      "provenance": []
    },
    "kernelspec": {
      "name": "python3",
      "display_name": "Python 3"
    },
    "language_info": {
      "name": "python"
    }
  },
  "cells": [
    {
      "cell_type": "markdown",
      "metadata": {
        "id": "AkswbNtBid9g"
      },
      "source": [
        "## <h3 id=\"WeeklyExercise1\">Weekly Exercise 1</h3>\n",
        "Buatlah sebuah module dengan nama matematika.py lalu isikan dengan :\n",
        "\n",
        "<li>Konstanta Pi</li>\n",
        "<li>fungsi menghitung luas lingkaran</li>\n",
        "</li>fungsi menghitung luas persegi</li>\n",
        "</li>fungsi menghitung luas persegi</li>\n",
        "\n",
        "lalu buatlah kode program untu mengimport modul tersebut untuk menghitung masing-masing luas bangun."
      ]
    },
    {
      "cell_type": "markdown",
      "source": [
        "Solusi:"
      ],
      "metadata": {
        "id": "d3Mof_JZIyn6"
      }
    },
    {
      "cell_type": "code",
      "source": [
        "# Module matematika.py\n",
        "\n",
        "Pi = 3.14\n",
        "\n",
        "def hitung_luas_lingkaran(Radius = 0):\n",
        "  return Pi * Radius * Radius\n",
        "\n",
        "def hitung_luas_persegi(Sisi = 0):\n",
        "  return Sisi * Sisi"
      ],
      "metadata": {
        "id": "8JALoojTJqkD"
      },
      "execution_count": null,
      "outputs": []
    },
    {
      "cell_type": "code",
      "source": [
        "import matematika\n",
        "\n",
        "Radius = float(input(\"Masukkan panjang jari-jari\\t: \"))\n",
        "Side = float(input(\"Masukkan panjang sisi\\t\\t: \"))\n",
        "\n",
        "print(\"\\n\")\n",
        "\n",
        "print(f\"Nilai Pi\\t\\t\\t: {matematika.Pi}\")\n",
        "print(f\"Luas lingkaran\\t\\t\\t: {matematika.hitung_luas_lingkaran(Radius):g}\")\n",
        "print(f\"Luas persegi\\t\\t\\t: {matematika.hitung_luas_persegi(Side):g}\")"
      ],
      "metadata": {
        "id": "HtS5PS9-Iw_r"
      },
      "execution_count": null,
      "outputs": []
    },
    {
      "cell_type": "markdown",
      "metadata": {
        "id": "bzK_xGDFid9g"
      },
      "source": [
        "## <h3 id=\"WeeklyExercise1\">Weekly Exercise 2</h3>\n",
        "Manfaatkan built-in module math pada python lalu cobalah menggunakan minimal 5 fungsi yang ada pada module tersebut!"
      ]
    },
    {
      "cell_type": "code",
      "source": [
        "import math\n",
        "\n",
        "\n",
        "# Fungsi teori bilangan dan representasi\n",
        "\n",
        "# math.ceil() --> Pembulatan ke atas\n",
        "print(f\"math.ceil(5.1)\\t\\t: {math.ceil(5.1)}\")\n",
        "\n",
        "# math.factorial() --> Faktorial\n",
        "print(f\"math.factorial(10)\\t: {math.factorial(10)}\")\n",
        "\n",
        "# math.floor() --> Pembulatan ke bawah\n",
        "print(f\"math.floor(5.3)\\t\\t: {math.floor(5.3)}\")\n",
        "\n",
        "# math.isfinite() --> Mengecek apakah suatu angka tak terhingga atau NaN (Not a Number)\n",
        "print(f\"math.isfinite(1000000)\\t: {math.isfinite(1000000)}\")\n",
        "\n",
        "# math.isinf() --> Mengecek apakah suatu angka tak terhingga (positif atau negatif)\n",
        "print(f\"math.isinf(1000000)\\t: {math.isinf(1000000)}\")\n",
        "\n",
        "# math.perm() --> Permutasi\n",
        "print(f\"math.perm(6, 3)\\t\\t: {math.perm(6, 3)}\")\n",
        "\n",
        "\n",
        "# Konversi sudut\n",
        "\n",
        "# math.degrees() --> Konversi radian ke derajat\n",
        "print(f\"math.degrees(90)\\t: {math.degrees(15)}\")\n",
        "\n",
        "# math.radians() --> Konversi derajat ke radian\n",
        "print(f\"math.radians(90)\\t: {math.radians(90)}\")\n",
        "\n",
        "\n",
        "# Fungsi pangkat dan logaritma\n",
        "\n",
        "# math.pow() --> Pangkat\n",
        "print(f\"math.pow(5, 2)\\t\\t: {math.pow(5, 2)}\")\n",
        "\n",
        "# math.sqrt() --> Akar kuadrat\n",
        "print(f\"math.sqrt(16)\\t\\t: {math.sqrt(16)}\")"
      ],
      "metadata": {
        "id": "wQwekKRILIPL"
      },
      "execution_count": null,
      "outputs": []
    }
  ]
}