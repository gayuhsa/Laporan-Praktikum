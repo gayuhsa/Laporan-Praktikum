{
  "nbformat": 4,
  "nbformat_minor": 0,
  "metadata": {
    "colab": {
      "provenance": []
    },
    "kernelspec": {
      "name": "python3",
      "display_name": "Python 3"
    },
    "language_info": {
      "name": "python"
    }
  },
  "cells": [
    {
      "cell_type": "markdown",
      "metadata": {
        "id": "nLCJrh5-jf5w"
      },
      "source": [
        "## <h3 id=\"WeeklyExercise1\">Weekly Exercise 1</h3>\n",
        "Sebutkan dan jelaskan perbedaan dari list, tuple, set dan dictionary dalam python"
      ]
    },
    {
      "cell_type": "markdown",
      "source": [
        "Jawaban:"
      ],
      "metadata": {
        "id": "zXcAYRt5vBaF"
      }
    },
    {
      "cell_type": "markdown",
      "metadata": {
        "id": "HEzramLqjf5w"
      },
      "source": [
        "### List\n",
        "- Dibuat menggunakan tanda kurung siku `[]`.\n",
        "- Elemen dalam list bersifat *ordered* (memiliki urutan yang pasti dan tidak akan berubah).\n",
        "- Dapat diisi dengan elemen duplikat. Karena list memiliki indeks, list dapat memiliki elemen dengan nilai yang sama tetapi dengan indeks yang berbeda.\n",
        "- Elemen dalam list memiliki indeks, elemen pertama memiliki indeks `[0]`, elemen kedua memiliki indeks `[1]`, dan seterusnya.\n",
        "- Elemen dalam list dapat diubah, ditambah, dan dihapus.\n",
        "- Dapat dibuat menggunakan fungsi `list()`.\n",
        "</br></br>\n",
        "\n",
        "### Tuple\n",
        "- Dibuat menggunakan tanda kurung bulat `()`.\n",
        "- Elemen dalam tuple bersifat *ordered* (memiliki urutan yang pasti dan tidak akan berubah).\n",
        "- Dapat diisi dengan elemen duplikat. Karena tuple memiliki indeks, tuple dapat memiliki elemen dengan nilai yang sama tetapi dengan indeks yang berbeda.\n",
        "- Elemen dalam tuple memiliki indeks, elemen pertama memiliki indeks `[0]`, elemen kedua memiliki indeks `[1]`, dan seterusnya.\n",
        "- Tuple tidak dapat diubah, artinya setelah tuple dibuat, elemen dalam tuple tidak dapat diubah, ditambah, atau dihapus.\n",
        "- Dapat dibuat menggunakan fungsi `tuple()`.\n",
        "</br></br>\n",
        "\n",
        "### Set\n",
        "- Dibuat menggunakan tanda kurung kurawal `{}`.\n",
        "- Elemen dalam set bersifat *unordered* (tidak memiliki urutan yang pasti dan dapat muncul dalam urutan yang berbeda saat digunakan).\n",
        "- Tidak dapat diisi dengan elemen duplikat.\n",
        "- Elemen dalam set tidak memiliki indeks.\n",
        "- Elemen tidak dapat diubah setelah set tersebut dibuat, tetapi dapat dihapus atau ditambah.\n",
        "- Dapat dibuat menggunakan fungsi `set()`.\n",
        "</br></br>\n",
        "\n",
        "### Dictionary\n",
        "- Dibuat menggunakan tanda kurung kurawal `{}` dan memiliki *key* dan *value*.\n",
        "- Elemen dalam dictionary bersifat *ordered* (memiliki urutan yang pasti dan tidak akan berubah). Mulai dari Python versi 3.7, dictionary bersifat *ordered*. Pada Python versi 3.6 dan sebelumnya, dictionary bersifat *unordered*.\n",
        "- Dictionary dapat diubah, artinya elemen yang sudah ada dapat diubah, ditambah, atau dihapus.\n",
        "- Tidak dapat diisi dengan *key* yang duplikat, tetapi *key* yang berbeda dapat memiliki *value* yang sama.\n",
        "- Elemen dalam dictionary memiliki indeks yang berupa *key*.\n",
        "- Dapat dibuat menggunakan fungsi `dict()`.\n",
        "</br></br>"
      ]
    },
    {
      "cell_type": "markdown",
      "metadata": {
        "id": "GCEGkOO8jf5w"
      },
      "source": [
        "## <h3 id=\"WeeklyExercise1\">Weekly Exercise 2</h3>\n",
        "- Buatlah dan tentukan tipe collection untuk mengelola data kalian dengan rincian di bawah :<br/>\n",
        "    Nama : nama mahasiswa <br/>\n",
        "    Kelas : kelas mahasiswa <br/>\n",
        "    Tanggal Lahir : tanggal lahir mahasiswa <br/>\n",
        "    no hp : no hp mahasiswa <br/>\n",
        "    alamat : alamat mahasiswa <br/>\n",
        "    Hobi : <br/>\n",
        "    1. Hobi 1 <br/>\n",
        "    2. Hobi 2 <br/>\n",
        "    3. dst <br/>\n",
        "- Tampilkan seluruh data dengan teknik perulangan"
      ]
    },
    {
      "cell_type": "markdown",
      "source": [
        "Solusi:"
      ],
      "metadata": {
        "id": "i3PEyc3Ou_xw"
      }
    },
    {
      "cell_type": "code",
      "execution_count": null,
      "metadata": {
        "id": "6jfE8MwJjf5w"
      },
      "outputs": [],
      "source": [
        "PersonalData = {\n",
        "    \"Nama\": \"\",\n",
        "    \"Kelas\": \"\",\n",
        "    \"Tanggal Lahir\": \"\",\n",
        "    \"Nomor HP\": \"0\",\n",
        "    \"Alamat\": \"\",\n",
        "    \"Hobi\": [],\n",
        "}\n",
        "\n",
        "\n",
        "print('''Masukkan data anda.\n",
        "Jika memiliki hobi lebih dari satu, gunakan tanda koma untuk memisahkan setiap hobi.\n",
        "Contoh: fotografi, mengedit video, bermain game\n",
        "''')\n",
        "\n",
        "\n",
        "for i in PersonalData.keys():\n",
        "  if isinstance(PersonalData[i], list):\n",
        "    UserInput = input(f\"{i} : \").lower()\n",
        "\n",
        "    # Pastikan UserInput benar-benar terisi dan bukan hanya diisi dengan spasi\n",
        "    if len(UserInput) > 0 and not UserInput.isspace():\n",
        "      PersonalData[i] = UserInput.split(\", \")\n",
        "  else:\n",
        "    PersonalData[i] = input(f\"{i} : \")\n",
        "\n",
        "\n",
        "print(\"\\n\\nData anda:\\n\")\n",
        "\n",
        "\n",
        "for i, v in PersonalData.items():\n",
        "  # Ganti value yang kosong dengan -\n",
        "  if len(v) < 1: # len() dapat digunakan untuk string dan list\n",
        "    print(f\"{i} : -\")\n",
        "    continue\n",
        "\n",
        "  if isinstance(v, list):\n",
        "    ValueString = f\"{i} : \"\n",
        "    LeadingSpace = \" \" * len(ValueString)\n",
        "    for ElementIndex in range(len(v)):\n",
        "      if ElementIndex > 0:\n",
        "        ValueString += LeadingSpace\n",
        "      ValueString += f\"{ElementIndex + 1}. {v[ElementIndex]}\\n\"\n",
        "    print(ValueString)\n",
        "  else:\n",
        "    print(f\"{i} : {v}\")"
      ]
    }
  ]
}