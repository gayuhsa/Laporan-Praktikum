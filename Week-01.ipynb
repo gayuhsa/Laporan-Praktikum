{
  "nbformat": 4,
  "nbformat_minor": 0,
  "metadata": {
    "colab": {
      "provenance": []
    },
    "kernelspec": {
      "name": "python3",
      "display_name": "Python 3"
    },
    "language_info": {
      "name": "python"
    }
  },
  "cells": [
    {
      "cell_type": "markdown",
      "source": [
        "# Weekly Exercise 1\n",
        "\n",
        "Buatlah sebuah program untuk menampilkan biodata anda:"
      ],
      "metadata": {
        "id": "NM69vK8nuvM7"
      }
    },
    {
      "cell_type": "code",
      "source": [
        "print(\"\"\"Nama          : Gayuh Senoaji\n",
        "NPM           : 2420506043\n",
        "Alamat        : Jl. Kapten Suparman 39, Magelang, Jawa Tengah\n",
        "Tinggi Badan  : 168.2\n",
        "Berat Badan   : 62.8\"\"\")"
      ],
      "metadata": {
        "id": "yeFo7boNuvTL"
      },
      "execution_count": null,
      "outputs": []
    },
    {
      "cell_type": "markdown",
      "source": [
        "# Weekly Exercise 2\n",
        "\n",
        "Buatlah sebuah program untuk menampilkan tulisan berikut ini :"
      ],
      "metadata": {
        "id": "mxonXsL5vs9k"
      }
    },
    {
      "cell_type": "code",
      "source": [
        "print(\"\"\"\\033[1mUNIVERSITAS TIDAR\\033[0m\n",
        "Universitas Tidar merupakan Perguruan Tinggi Pemerintah atau Perguruan Tinggi Negeri yang telah ditetapkan berdasarkan Peraturan Presiden Republik Indonesia Nomor 23 Tahun 2014 pada tanggal 1 April 2014.\n",
        "\n",
        "\\033[1mJURUSAN TEKNIK ELEKTRO, MEKATRONIKA, DAN INFORMASI\\033[0m\n",
        "Jurusan Teknik Elektro, Mekatronika, dan Informasi terdiri atas tiga program studi, antara lain:\n",
        "    1. S1 Teknik Elektro (\\033[3mBachelor of Electrical Engineering\\033[0m)\n",
        "    2. S1 Teknologi Informasi (\\033[3mBachelor of Information Technology\\033[0m)\n",
        "    3. S1 Teknik Mekatronika (\\033[3mBachelor of Mechatronics Engineering\\033[0m)\"\"\")"
      ],
      "metadata": {
        "id": "3cEI22PFvtDj"
      },
      "execution_count": null,
      "outputs": []
    }
  ]
}