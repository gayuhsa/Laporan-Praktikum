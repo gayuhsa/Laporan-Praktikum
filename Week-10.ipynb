{
  "nbformat": 4,
  "nbformat_minor": 0,
  "metadata": {
    "colab": {
      "provenance": []
    },
    "kernelspec": {
      "name": "python3",
      "display_name": "Python 3"
    },
    "language_info": {
      "name": "python"
    }
  },
  "cells": [
    {
      "cell_type": "markdown",
      "metadata": {
        "id": "Fccf2_mFpVF9"
      },
      "source": [
        "## <h3 id=\"WeeklyExercise1\">Weekly Exercise 1</h3>\n",
        "Buatlah kode program untuk menghitung nilai faktorial dari bilangan yang diinputkan oleh pengguna dengan memanfaatkan fungsi rekursif!"
      ]
    },
    {
      "cell_type": "markdown",
      "source": [
        "Solusi:"
      ],
      "metadata": {
        "id": "0m1ojZB5QTva"
      }
    },
    {
      "cell_type": "code",
      "source": [
        "def factorial(n):\n",
        "  if n == 0:\n",
        "    return 1\n",
        "  else:\n",
        "    return n * factorial(n - 1)\n",
        "\n",
        "try:\n",
        "  Input = int(input(\"Masukkan angka: \"))\n",
        "  print(f\"Faktorial dari {Input} adalah {factorial(Input)}\")\n",
        "except ValueError:\n",
        "  print(\"Input salah\")"
      ],
      "metadata": {
        "id": "sX7oFlF5FDLq"
      },
      "execution_count": null,
      "outputs": []
    },
    {
      "cell_type": "markdown",
      "metadata": {
        "id": "s9EBMJ5rpVF9"
      },
      "source": [
        "## <h3 id=\"WeeklyExercise1\">Weekly Exercise 2</h3>\n",
        "Buatlah kalkulator untuk menghitung luas bangun datar lingkaran, persegi dan segitiga dengan memanfaatkan fungsi\n",
        "<li>masing-masing kode program dimasukkan ke dalam fungsi yang berbeda</li>\n",
        "<li>pengguna diberikan pilihan perhitungan</li>\n",
        "<li>sebelum dipilih selesai program tidak akan berhenti</li>"
      ]
    },
    {
      "cell_type": "markdown",
      "source": [
        "Solusi:"
      ],
      "metadata": {
        "id": "a6-xO8iJQQnq"
      }
    },
    {
      "cell_type": "code",
      "source": [
        "# Modul\n",
        "import math\n",
        "\n",
        "# Deklarasi variabel\n",
        "Input = \"\"\n",
        "Functions = {}\n",
        "\n",
        "\n",
        "# Fungsi\n",
        "def calculate_circle_area(Parameters = []):\n",
        "  if len(Parameters) < 1:\n",
        "    print(\"Parameter salah\")\n",
        "    return\n",
        "  print(f\"Luas lingkaran: {(math.pi * Parameters[0] * Parameters[0]):g}\")\n",
        "\n",
        "def calculate_square_area(Parameters = []):\n",
        "  if len(Parameters) < 1:\n",
        "    print(\"Parameter salah\")\n",
        "    return\n",
        "  print(f\"Luas persegi: {(Parameters[0] * Parameters[0]):g}\")\n",
        "\n",
        "def calculate_triangle_area(Parameters = []):\n",
        "  if len(Parameters) < 2:\n",
        "    print(\"Parameter salah\")\n",
        "    return\n",
        "  print(f\"Luas segitiga: {(0.5 * Parameters[0] * Parameters[1]):g}\")\n",
        "\n",
        "\n",
        "# Awal program\n",
        "Functions = {\n",
        "    \"lingkaran\": calculate_circle_area,\n",
        "    \"persegi\": calculate_square_area,\n",
        "    \"segitiga\": calculate_triangle_area,\n",
        "}\n",
        "\n",
        "\n",
        "print('''Untuk menghitung luas, masukkan data dengan format:\n",
        "\n",
        "\\033[92mlingkaran\\033[0m \\033[96m<jari-jari>\\033[0m\n",
        "\\033[92mpersegi\\033[0m \\033[96m<panjang sisi>\\033[0m\n",
        "\\033[92msegitiga\\033[0m \\033[96m<alas> <tinggi>\\033[0m\n",
        "\n",
        "Ketik \"stop\" untuk menghentikan program.\n",
        "\n",
        "Contoh:\n",
        "segitiga 3 6\n",
        "''')\n",
        "\n",
        "\n",
        "# Loop utama\n",
        "while (Input != \"stop\"):\n",
        "  Input = input().lower()\n",
        "  SplittedInput = Input.split(\" \")\n",
        "\n",
        "  if SplittedInput[0] == \"stop\":\n",
        "    break\n",
        "\n",
        "  if SplittedInput[0] in Functions:\n",
        "    Functions[SplittedInput[0]](list(map(float, SplittedInput[1:])))\n",
        "    print(\"\\n\")\n",
        "  else:\n",
        "    print(f\"Bangun datar \\\"{SplittedInput[0]}\\\" tidak ditemukan\\n\")"
      ],
      "metadata": {
        "id": "D6HRkFyqFtPi"
      },
      "execution_count": null,
      "outputs": []
    }
  ]
}