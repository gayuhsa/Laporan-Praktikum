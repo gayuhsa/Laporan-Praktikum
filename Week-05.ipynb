{
  "cells": [
    {
      "cell_type": "markdown",
      "source": [
        "Buatlah sebuah program untuk mengecek apakah angka yang dimasukkan user merupakan bilangan genap atau ganjil, dengan ketentuan sebagai berikut:\n",
        "<br>\n",
        "(Quiz ini silahkan diupload di Elita maksimal di akhir waktu perkuliahan)\n",
        "\n",
        "1. User perlu memasukkan sebuah angka\n",
        "2. Program akan cek apakah angka yang dimasukkan merupakan bilangan bulat, apabila bilangan bulat maka program akan berlanjut pada proses selanjutnya. Namun apabila bukan bilangan bulat, maka program akan memberikan output bahwa angka yang dimasukkan bukan merupakan bilangan bulat, dan program selesai.\n",
        "3. Apabila bilangan bulat, maka akan dicek apakah bilangan tersebut bilangan negatif, nol, atau bilangan positif. Apabila bilangan negatif maka program akan memberikan output bahwa angka yang dimasukkan merupakan bilangan negatif, dan program selesai. Apabila angka yang dimasukkan adalah nol, maka program akan memberikan output bahwa angka yang dimasukkan merupakan nol, dan program selesai.\n",
        "4. Apabila bilangan yang dimasukkan adalah bilangan positif, maka akan dicek apakah bilangan yang dimasukkan adalah bilangan ganjil atau genap. Apabila bilangan ganjil, maka program akan memberikan output bahwa angka yang dimasukkan merupakan bilangan ganjil, dan program selesai. Apabila bilangan genap, maka program akan memberikan output berupa angka yang dimasukkan merupakan bilangan genap, dan program selesai."
      ],
      "metadata": {
        "id": "TFS524KPEINH"
      }
    },
    {
      "cell_type": "code",
      "source": [
        "angka = float(input(\"Masukkan sebuah angka: \"))\n",
        "\n",
        "if angka.is_integer():\n",
        "  print(\"Angka yang dimasukkan merupakan bilangan bulat.\")\n",
        "\n",
        "  if angka < 0:\n",
        "    print(\"Angka yang dimasukkan merupakan bilangan negatif.\")\n",
        "  elif angka == 0:\n",
        "    print(\"Angka yang dimasukkan merupakan nol.\")\n",
        "  else:\n",
        "    if angka % 2 == 0:\n",
        "      print(\"Angka yang dimasukkan merupakan bilangan genap.\")\n",
        "    else:\n",
        "      print(\"Angka yang dimasukkan merupakan bilangan ganjil.\")\n",
        "else:\n",
        "  print(\"Angka yang dimasukkan bukan merupakan bilangan bulat.\")"
      ],
      "metadata": {
        "id": "NvS-b65z5fu4"
      },
      "execution_count": null,
      "outputs": []
    },
    {
      "cell_type": "markdown",
      "metadata": {
        "id": "fvHXYgbL3OC1"
      },
      "source": [
        "# <h3 id=\"WeeklyExercise1\">Weekly Exercise 1</h3>\n",
        "\n",
        "Silahkan buat kode program untuk menunjukkan apakah angka yang diinputkan oleh user merupakan tahun kabisat atau tidak dengan ketentuan berikut ini :\n",
        "\n",
        "\n",
        "1.   User diminta memasukkan angka (tahun)\n",
        "2.   Program akan memproses angka yang dimasukkan kemudian akan dicek apakah tahun yang dimasukkan merupakan tahun kabisat atau bukan\n",
        "3. Program akan menampilkan angka yang dimasukkan oleh user disertai hasil pengecekan apakah merupakan tahun kabisat atau bukan tahun kabisat\n",
        "\n",
        "\n",
        "\n"
      ]
    },
    {
      "cell_type": "code",
      "execution_count": null,
      "metadata": {
        "id": "3uO64ZRAyalH"
      },
      "outputs": [],
      "source": [
        "year = int(input(\"Masukkan angka (tahun): \"))\n",
        "\n",
        "if year % 4 == 0:\n",
        "  print(str(year) + \" adalah tahun kabisat\")\n",
        "else:\n",
        "  print(str(year) + \" bukan tahun kabisat\")"
      ]
    },
    {
      "cell_type": "markdown",
      "metadata": {
        "id": "sHNINS-y3tpB"
      },
      "source": [
        "# <h3 id=\"WeeklyExercise2\">Weekly Exercise 2</h3>\n",
        "\n",
        "Silahkan buat kode program untuk menunjukkan angka terbesar berdasarkan 3 angka yang di inputkan oleh user dengan ketentuan berikut ini :\n",
        "\n",
        "\n",
        "1.   User diminta memasukkan angka pertama\n",
        "2.   User diminta memasukkan angka kedua\n",
        "3. User diminta memasukkan angka ketiga\n",
        "4. Program akan mengecek di antara ketiga angka yang dimasukkan, angka manakah yang nilai nya paling besar\n",
        "5. Program akan menampilkan angka pertama, angka kedua, angka ketiga, serta menampilkan pernyataan manakah angka yang paling besar di antara ketiga angka yang dimasukkan\n",
        "\n"
      ]
    },
    {
      "cell_type": "code",
      "execution_count": null,
      "metadata": {
        "id": "MY9mnhlMzGYp"
      },
      "outputs": [],
      "source": [
        "n1 = int(input(\"Masukkan angka pertama\\t: \"))\n",
        "n2 = int(input(\"Masukkan angka kedua\\t: \"))\n",
        "n3 = int(input(\"Masukkan angka ketiga\\t: \"))\n",
        "\n",
        "if n1 > n2:\n",
        "  if n1 > n3:\n",
        "    print(str(n1) + \" adalah angka yang paling besar\")\n",
        "  else:\n",
        "    print(str(n3) + \" adalah angka yang paling besar\")\n",
        "else:\n",
        "  if n2 > n3:\n",
        "    print(str(n2) + \" adalah angka yang paling besar\")\n",
        "  else:\n",
        "    print(str(n3) + \" adalah angka yang paling besar\")"
      ]
    },
    {
      "cell_type": "markdown",
      "metadata": {
        "id": "UlSlU16V4A3O"
      },
      "source": [
        "# <h3 id=\"WeeklyExercise3\">Weekly Exercise 3</h3>\n",
        "\n",
        "Buatlah kode program untuk menghitung jumlah yang harus dibayarkan konsumen pusat perbelanjaan dengan ketentuan sebagai berikut :\n",
        "\n",
        "1.   Terdapat 2 jenis konsumen, yaitu member dan non member\n",
        "2.   Apabila total belanja lebih dari 100.000 maka berhak mendapatkan diskon 3 persen\n",
        "3. Apabila total belanja lebih dari 200.000 maka berhak mendapatkan diskon 4 persen\n",
        "4. Setiap pembelian yang dilakukan oleh member mendapatkan tambahan diskon 2 persen\n",
        "\n"
      ]
    },
    {
      "cell_type": "code",
      "execution_count": null,
      "metadata": {
        "id": "wi9y9iog1NER"
      },
      "outputs": [],
      "source": [
        "member = input(\"Apakah konsumen merupakan member? (Y/N): \")\n",
        "total_belanja = int(input(\"Total belanja: \"))\n",
        "diskon = float(0)\n",
        "\n",
        "if total_belanja > 200000:\n",
        "  diskon = diskon + 0.04\n",
        "elif total_belanja > 100000:\n",
        "  diskon = diskon + 0.03\n",
        "\n",
        "if member == \"Y\":\n",
        "  diskon = diskon + 0.02\n",
        "\n",
        "print(\"Jumlah yang harus dibayarkan konsumen: \" + str(int(total_belanja * (1 - diskon))))"
      ]
    },
    {
      "cell_type": "code",
      "execution_count": null,
      "metadata": {
        "id": "ncg_By8Q9Vbg"
      },
      "outputs": [],
      "source": [
        "member = input(\"Apakah konsumen merupakan member? (Y/N): \")\n",
        "total_belanja = int(input(\"Total belanja: \"))\n",
        "diskon = float(0)\n",
        "\n",
        "def format_rupiah(n):\n",
        "  n = \"{:,.2f}\".format(n)\n",
        "  n = n.replace(\",\", \"|\")\n",
        "  n = n.replace(\".\", \",\")\n",
        "  n = n.replace(\"|\", \".\")\n",
        "  return \"Rp \" + n\n",
        "\n",
        "if total_belanja > 200000:\n",
        "  diskon = diskon + 0.04\n",
        "elif total_belanja > 100000:\n",
        "  diskon = diskon + 0.03\n",
        "\n",
        "if member == \"Y\":\n",
        "  diskon = diskon + 0.02\n",
        "\n",
        "print(\"Jumlah yang harus dibayarkan konsumen: \" + format_rupiah(total_belanja * (1 - diskon)))"
      ]
    },
    {
      "cell_type": "markdown",
      "metadata": {
        "id": "2GrcS12tOkr2"
      },
      "source": [
        "## <h3 id=\"WeeklyExercise4\">Weekly Exercise 4</h3>\n",
        "\n",
        "Buatlah kode program untuk membuat user baru pada sebuah sistem, dengan ketentuan sebagai berikut:\n",
        "\n",
        "\n",
        "1.   User perlu memasukkan username, email, dan password\n",
        "2.   User baru hanya akan sukses dibuat apabila:\n",
        "      *   username tidak boleh kosong\n",
        "      *   terdapat \"@\" pada alamat email\n",
        "      *   panjang password lebih dari 8 karakter\n",
        "\n",
        "\n",
        "\n",
        "\n",
        "\n",
        "\n"
      ]
    },
    {
      "cell_type": "code",
      "execution_count": null,
      "metadata": {
        "id": "VU6SuyzQ3d-4"
      },
      "outputs": [],
      "source": [
        "username = input(\"Masukkan username\\t: \")\n",
        "email = input(\"Masukkan email\\t\\t: \")\n",
        "password = input(\"Masukkan password\\t: \")\n",
        "\n",
        "if username != \"\" and \"@\" in email and len(password) > 8:\n",
        "  print(\"Berhasil membuat user baru\")\n",
        "else:\n",
        "  print(\"Gagal membuat user baru\")"
      ]
    }
  ],
  "metadata": {
    "colab": {
      "provenance": []
    },
    "kernelspec": {
      "display_name": "Python 3",
      "name": "python3"
    },
    "language_info": {
      "name": "python"
    }
  },
  "nbformat": 4,
  "nbformat_minor": 0
}