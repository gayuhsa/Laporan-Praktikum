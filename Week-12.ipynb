{
  "nbformat": 4,
  "nbformat_minor": 0,
  "metadata": {
    "colab": {
      "provenance": []
    },
    "kernelspec": {
      "name": "python3",
      "display_name": "Python 3"
    },
    "language_info": {
      "name": "python"
    }
  },
  "cells": [
    {
      "cell_type": "markdown",
      "metadata": {
        "id": "lMeG58KlTwKx"
      },
      "source": [
        "## <h3 id=\"WeeklyExercise1\">Weekly Exercise 1</h3>\n",
        "Pada program perhitungan bangun datar tugas sebelumnya, berikan <i>Exception Handling</i> :\n",
        "<li>Jika user lupa memasukkan nilai atau kosong maka akan muncul keterangan \"tidak boleh kosong\"</li>\n",
        "<li>Jika karakter yang diinputkan user bukan integer maka akan muncul error \"hanya boleh memasukkan angka\"</li>"
      ]
    },
    {
      "cell_type": "markdown",
      "source": [
        "Solusi:"
      ],
      "metadata": {
        "id": "nrRK4EOOK_Tv"
      }
    },
    {
      "cell_type": "code",
      "source": [
        "# Module matematika.py\n",
        "\n",
        "Pi = 3.14\n",
        "\n",
        "def hitung_luas_lingkaran(Radius = 0):\n",
        "  return Pi * Radius * Radius\n",
        "\n",
        "def hitung_luas_persegi(Sisi = 0):\n",
        "  return Sisi * Sisi"
      ],
      "metadata": {
        "id": "8JALoojTJqkD"
      },
      "execution_count": null,
      "outputs": []
    },
    {
      "cell_type": "code",
      "source": [
        "# Modul\n",
        "import matematika\n",
        "\n",
        "# Variabel\n",
        "Radius = 0\n",
        "Side = 0\n",
        "\n",
        "\n",
        "if __name__ == \"__main__\":\n",
        "  # Mengambil nilai pi dari modul matematika\n",
        "  print(f\"Nilai Pi\\t\\t\\t: {matematika.Pi}\\n\")\n",
        "\n",
        "\n",
        "  # Menghitung luas lingkaran menggunakan modul matematika\n",
        "  try:\n",
        "    Radius = input(\"Masukkan panjang jari-jari\\t: \")\n",
        "    if Radius and float(Radius):\n",
        "      print(f\"Luas lingkaran\\t\\t\\t: {matematika.hitung_luas_lingkaran(float(Radius)):g}\")\n",
        "    else:\n",
        "      print(\"Tidak boleh kosong\")\n",
        "  except ValueError:\n",
        "    print(\"Hanya boleh memasukkan angka\")\n",
        "\n",
        "\n",
        "  print(\"\\n\")\n",
        "\n",
        "\n",
        "  # Menghitung luas persegi menggunakan modul matematika\n",
        "  try:\n",
        "    Side = input(\"Masukkan panjang sisi\\t\\t: \")\n",
        "    if Side and float(Side):\n",
        "      print(f\"Luas persegi\\t\\t\\t: {matematika.hitung_luas_persegi(float(Side)):g}\")\n",
        "    else:\n",
        "      print(\"Tidak boleh kosong\")\n",
        "  except ValueError:\n",
        "    print(\"Hanya boleh memasukkan angka\")"
      ],
      "metadata": {
        "id": "HtS5PS9-Iw_r"
      },
      "execution_count": null,
      "outputs": []
    },
    {
      "cell_type": "markdown",
      "metadata": {
        "id": "8_TzLGsRTwKx"
      },
      "source": [
        "## <h3 id=\"WeeklyExercise1\">Weekly Exercise 2</h3>\n",
        "Pada program yang anda buat saat UTS berikan <i>Exception Handling</i> lalu kumpulkan file di elita!"
      ]
    },
    {
      "cell_type": "markdown",
      "source": [
        "Solusi:"
      ],
      "metadata": {
        "id": "MkeWbHutLCcG"
      }
    },
    {
      "cell_type": "code",
      "source": [
        "NPM = \"\"\n",
        "Even = 0 # Jumlah bilangan genap\n",
        "Odd = 0 # Jumlah bilangan ganjil\n",
        "\n",
        "while not NPM.isnumeric():\n",
        "  try:\n",
        "    NPM = input(\"Masukkan NPM Anda: \")\n",
        "    Checker = int(NPM)\n",
        "  except ValueError:\n",
        "    print(\"Kesalahan dalam penulisan NPM\\n\")\n",
        "\n",
        "\n",
        "for i in NPM:\n",
        "  if int(i) % 2 == 0:\n",
        "    Even = Even + 1\n",
        "  else:\n",
        "    Odd = Odd + 1\n",
        "\n",
        "\n",
        "print(\"Jumlah bilangan genap: \" + str(Even))\n",
        "print(\"Jumlah bilangan ganjil: \" + str(Odd))"
      ],
      "metadata": {
        "id": "Sp3ZiHJHVw6p"
      },
      "execution_count": null,
      "outputs": []
    },
    {
      "cell_type": "code",
      "execution_count": null,
      "metadata": {
        "id": "XCfXbv-q6Mhy"
      },
      "outputs": [],
      "source": [
        "RowAmount = \"\"\n",
        "Result = \"\"\n",
        "\n",
        "\n",
        "while not RowAmount.isnumeric():\n",
        "  try:\n",
        "    RowAmount = input(\"Masukkan jumlah baris: \")\n",
        "    Checker = int(RowAmount)\n",
        "  except ValueError:\n",
        "    print(\"Kesalahan dalam penulisan jumlah baris\\n\")\n",
        "\n",
        "\n",
        "for i in range(1, int(RowAmount) + 1):\n",
        "  for j in range(1, i + 1):\n",
        "    Result = Result + str(i * j) + \" \"\n",
        "  Result = Result + \"\\n\"\n",
        "\n",
        "\n",
        "print(Result)"
      ]
    }
  ]
}