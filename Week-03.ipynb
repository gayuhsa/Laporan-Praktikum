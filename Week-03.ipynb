{
  "nbformat": 4,
  "nbformat_minor": 0,
  "metadata": {
    "colab": {
      "provenance": []
    },
    "kernelspec": {
      "name": "python3",
      "display_name": "Python 3"
    },
    "language_info": {
      "name": "python"
    }
  },
  "cells": [
    {
      "cell_type": "markdown",
      "metadata": {
        "id": "YTIfHCfxtpTi"
      },
      "source": [
        "## <h3 id=\"WeeklyExercise1\">Weekly Exercise 1</h3>\n",
        "1. Buatlah sebuah file .txt yang berisi biodata Anda meliputi : nama, program studi, NPM, alamat, hobi, dan email.\n",
        "2. Buatlah script untuk menampilkan menampilkan nama, program studi, dan email.\n",
        "3. Buatlah script untuk mengambil data nama, NPM, program studi dan alamat kemudian menyimpan dalam bentuk file txt yang baru.\n"
      ]
    },
    {
      "cell_type": "code",
      "execution_count": null,
      "metadata": {
        "id": "pJdCPliosRoz"
      },
      "outputs": [],
      "source": [
        "# Menampilkan nama, program studi, dan email.\n",
        "with open(\"Biodata.txt\", \"r\") as BiodataFile:\n",
        "  print(BiodataFile.read())\n",
        "\n",
        "# Mengambil data nama, NPM, program studi dan alamat kemudian menyimpan dalam bentuk file txt yang baru.\n",
        "with open(\"Biodata2.txt\", \"w\") as WriteFile:\n",
        "  with open(\"Biodata.txt\", \"r\") as BiodataFile:\n",
        "    WriteFile.write(BiodataFile.read())"
      ]
    },
    {
      "cell_type": "markdown",
      "metadata": {
        "id": "Q_W_Xxvntu88"
      },
      "source": [
        "## <h3 id=\"WeeklyExercise2\">Weekly Exercise 2</h3>\n",
        "\n",
        "Perbaiki script berikut sehingga tidak muncul error:\n",
        "<pre>\n",
        "print (\"Selamat datang di Toko Maju Jaya\")\n",
        "print \"Senin, 4 September 2023       13.05\")\n",
        "print(\" \"\n",
        "\n",
        "print \"DAFTAR BELANJA:\")\n",
        "item1 = \"Sabun\"\n",
        "item2 = 'Shampo'\n",
        "item3 = Mie instant\n",
        "item4 = Detergen\n",
        "harga1 = Rp 10000\n",
        "harga2 = 15000\n",
        "harga3 = Rp 5000\n",
        "harga4 = 17500\n",
        "\n",
        "total = hargga1+harga2+hargga3+harga\n",
        "\n",
        "print(item1,          = Rp  + harga1)\n",
        "print(item2, '        = Rp '+ harga2)\n",
        "print(item3,    = Rp + hargaa3)\n",
        "print(item4,       = Rp + harga)\n",
        "\n",
        "print(\" \")\n",
        "print(\"Total = Rp \"+total)\n",
        "\n",
        "with open('Kuitansi.txt', w') writefile:\n",
        "        writefiile.write(\"Selamat Datang di Toko Maju Jaya\\n\")\n",
        "        writefille.write(\" \\n\")\n",
        "        writefiile.write(\"Kuitansi - 4 Septermber 2023\\n\")\n",
        "        writefille.write(\" \\n\")\n",
        "        writefiile.write(item1+\" = Rp \" harga1+\"\\n\"\n",
        "        writefille.write(item2+\" = Rp \" harga2\")\n",
        "        writefiile.write(item3+\" = Rp \" harga3+\\n\")\n",
        "        writefille.write(item4+\" = Rp \" harga4+\"\\n)\n",
        "        writefiile.write(\" \\n\")\n",
        "        writefille.write(\"Total Belanja =\"+total\n",
        "</pre>\n",
        "\n",
        "Output yang diharapkan adalah luaran program dan file .txt sesuai dengan hasil luaran program"
      ]
    },
    {
      "cell_type": "code",
      "source": [
        "print(\"Selamat datang di Toko Maju Jaya\")\n",
        "print(\"Senin, 4 September 2023 13.05\")\n",
        "print(\" \")\n",
        "\n",
        "print(\"DAFTAR BELANJA:\")\n",
        "item1 = \"Sabun\"\n",
        "item2 = \"Shampo\"\n",
        "item3 = \"Mie instant\"\n",
        "item4 = \"Detergen\"\n",
        "harga1 = 10000\n",
        "harga2 = 15000\n",
        "harga3 = 5000\n",
        "harga4 = 17500\n",
        "\n",
        "total = harga1 + harga2 + harga3 + harga4\n",
        "\n",
        "def format_rupiah(number):\n",
        "  number = \"{:,.2f}\".format(number)\n",
        "  number = number.replace(\",\", \"|\")\n",
        "  number = number.replace(\".\", \",\")\n",
        "  number = number.replace(\"|\", \".\")\n",
        "  return number\n",
        "\n",
        "print(item1, \"= Rp\" + format_rupiah(harga1))\n",
        "print(item2, \"= Rp\" + format_rupiah(harga2))\n",
        "print(item3, \"= Rp\" + format_rupiah(harga3))\n",
        "print(item4, \"= Rp\" + format_rupiah(harga4))\n",
        "\n",
        "print(\"\")\n",
        "print(\"Total = Rp\" + format_rupiah(total))\n",
        "\n",
        "with open(\"Kuitansi.txt\", \"w\") as writefile:\n",
        "        writefile.write(\"Selamat Datang di Toko Maju Jaya\\n\")\n",
        "        writefile.write(\"Senin, 4 September 2023 13.05\\n\\n\")\n",
        "        writefile.write(\"DAFTAR BELANJA:\\n\")\n",
        "        writefile.write(item1 + \" = Rp\" + format_rupiah(harga1) + \"\\n\")\n",
        "        writefile.write(item2 + \" = Rp\" + format_rupiah(harga2) + \"\\n\")\n",
        "        writefile.write(item3 + \" = Rp\" + format_rupiah(harga3) + \"\\n\")\n",
        "        writefile.write(item4 + \" = Rp\" + format_rupiah(harga4) + \"\\n\")\n",
        "        writefile.write(\"\\n\")\n",
        "        writefile.write(\"Total = \" + format_rupiah(total))"
      ],
      "metadata": {
        "id": "-yL-li28uKfn"
      },
      "execution_count": null,
      "outputs": []
    }
  ]
}