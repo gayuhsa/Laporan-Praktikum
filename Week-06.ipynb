{
  "nbformat": 4,
  "nbformat_minor": 0,
  "metadata": {
    "colab": {
      "provenance": []
    },
    "kernelspec": {
      "name": "python3",
      "display_name": "Python 3"
    },
    "language_info": {
      "name": "python"
    }
  },
  "cells": [
    {
      "cell_type": "markdown",
      "source": [
        "## <h3 id=\"WeeklyExercise1\">Weekly Exercise 1</h3>\n",
        "\n",
        "Buatlah kode program untuk dapat menampilkan sebagai berikut :\n",
        "\n",
        "<pre>\n",
        "     *\n",
        "    * *\n",
        "   * * *\n",
        "  * * * *\n",
        " * * * * *\n",
        "* * * * * *\n",
        "</pre>\n",
        "\n",
        "Jumlah baris pada gambar di atas berdasarkan angka yang dimasukkan oleh user.\n",
        "\n",
        "<br>\n",
        "Sebagai contoh, apabila user memasukkan angka 2, maka tampilan menjadi:\n",
        "<pre>\n",
        " *\n",
        "* *\n",
        "</pre>\n",
        "\n",
        "<br>\n",
        "Apabila user memasukkan angka 3, maka tampilan menjadi:\n",
        "<pre>\n",
        "  *\n",
        " * *\n",
        "* * *\n",
        "</pre>"
      ],
      "metadata": {
        "id": "4tGVz-Cb-khF"
      }
    },
    {
      "cell_type": "markdown",
      "source": [
        "Solusi:"
      ],
      "metadata": {
        "id": "2qRZ6Zs9y_8V"
      }
    },
    {
      "cell_type": "code",
      "source": [
        "RowAmount = int(input(\"Masukkan jumlah baris: \"))\n",
        "Result = \"\"\n",
        "\n",
        "for i in range(1, RowAmount + 1):\n",
        "  # Tambahkan spasi di awal baris untuk menengahkan teks di baris tersebut\n",
        "  Result = Result + (\" \" * (RowAmount - i))\n",
        "\n",
        "  for j in range(1, i + 1):\n",
        "    Result = Result + \"* \"\n",
        "\n",
        "  # [:len(Result) - 1] digunakan untuk menghapus trailing space yang ada di setiap akhir baris\n",
        "  Result = Result[:len(Result) - 1] + \"\\n\"\n",
        "\n",
        "print(Result)"
      ],
      "metadata": {
        "id": "MzwsFxepzAEF"
      },
      "execution_count": null,
      "outputs": []
    },
    {
      "cell_type": "markdown",
      "source": [
        "## <h3 id=\"WeeklyExercise2\">Weekly Exercise 2</h3>\n",
        "\n",
        "Buatlah kode program untuk dapat menampilkan segitiga pascal sebagai berikut :\n",
        "\n",
        "<pre>\n",
        "     1\n",
        "    1 1\n",
        "   1 2 1\n",
        "  1 3 3 1\n",
        " 1 4 6 4 1\n",
        "</pre>\n",
        "\n",
        "Jumlah baris pada gambar di atas berdasarkan angka yang dimasukkan oleh user.\n",
        "\n",
        "<br>\n",
        "Sebagai contoh, apabila user memasukkan angka 2, maka tampilan menjadi:\n",
        "<pre>\n",
        " 1\n",
        "1 1\n",
        "</pre>\n",
        "\n",
        "<br>\n",
        "Apabila user memasukkan angka 3, maka tampilan menjadi:\n",
        "<pre>\n",
        "  1\n",
        " 1 1\n",
        "1 2 1\n",
        "</pre>"
      ],
      "metadata": {
        "id": "6otIL04SB-SV"
      }
    },
    {
      "cell_type": "markdown",
      "source": [
        "Solusi:"
      ],
      "metadata": {
        "id": "BVu0IpY51U0u"
      }
    },
    {
      "cell_type": "code",
      "source": [
        "RowAmount = int(input(\"Masukkan jumlah baris: \"))\n",
        "Result = \"\"\n",
        "\n",
        "for i in range(1, RowAmount + 1):\n",
        "  # Tambahkan spasi di awal baris untuk menengahkan teks di baris tersebut\n",
        "  Result = Result + (\" \" * (RowAmount - i))\n",
        "\n",
        "  C = 1\n",
        "\n",
        "  for j in range(1, i + 1):\n",
        "    Result = Result + str(C) + \" \"\n",
        "    C = C * (i - j) // j\n",
        "\n",
        "  # [:len(Result) - 1] digunakan untuk menghapus trailing space yang ada di setiap akhir baris\n",
        "  Result = Result[:len(Result) - 1] + \"\\n\"\n",
        "\n",
        "print(Result)"
      ],
      "metadata": {
        "id": "MoCB7eL02xxt"
      },
      "execution_count": null,
      "outputs": []
    },
    {
      "cell_type": "markdown",
      "source": [
        "## <h3 id=\"WeeklyExercise3\">Weekly Exercise 3</h3>\n",
        "\n",
        "Buatlah kode program untuk dapat menampilkan jumlah angka dalam satu baris segitiga pascal.\n",
        "\n",
        "Sebagai contoh, apabila user memasukkan angka 2, maka angka dalam satu baris segitiga pascal adalah:\n",
        "<pre>\n",
        "1 1\n",
        "</pre>\n",
        "\n",
        "Sehingga perlu menjumlahkan 1 + 1, maka output dari program adalah 2\n",
        "\n",
        "\n",
        "Apabila user memasukkan angka 3, maka angka dalam satu baris segitiga pascal adalah:\n",
        "<pre>\n",
        "1 2 1\n",
        "</pre>\n",
        "Sehingga perlu menjumlahkan 1 + 2 + 1, maka output dari program adalah 4"
      ],
      "metadata": {
        "id": "5FLfcXXTEJ5n"
      }
    },
    {
      "cell_type": "markdown",
      "source": [
        "Solusi:"
      ],
      "metadata": {
        "id": "bTFD_YQG5Wy-"
      }
    },
    {
      "cell_type": "code",
      "source": [
        "Row = int(input(\"Masukkan jumlah baris\\t: \"))\n",
        "Result = \"\"\n",
        "Sum = 0\n",
        "SumString = \"\"\n",
        "C = 1\n",
        "\n",
        "for i in range(1, Row + 1):\n",
        "  Result = Result + str(C) + \" \"\n",
        "  Sum = Sum + C\n",
        "  SumString = SumString + str(C) + \" + \"\n",
        "  C = C * (Row - i) // i\n",
        "\n",
        "SumString = SumString[:len(SumString) - 2] + \"= \" + str(Sum)\n",
        "\n",
        "print(\"Baris segitiga pascal\\t: \" + Result)\n",
        "print(\"Hasil penjumlahan\\t: \" + SumString)"
      ],
      "metadata": {
        "id": "3AHJNe_R5W4W"
      },
      "execution_count": null,
      "outputs": []
    }
  ]
}